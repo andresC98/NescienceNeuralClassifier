{
 "cells": [
  {
   "cell_type": "markdown",
   "metadata": {},
   "source": [
    "# Introduction to the class Nescience"
   ]
  },
  {
   "cell_type": "markdown",
   "metadata": {},
   "source": [
    "In this tutorial we are going to see how to use the class \"Nescience\", in order to compute the nescience of a model and a dataset, and to compute the individual terms that compose the nescience, that is, miscoding, inaccuracy and surfeit."
   ]
  },
  {
   "cell_type": "code",
   "execution_count": 1,
   "metadata": {},
   "outputs": [],
   "source": [
    "import numpy as np\n",
    "import matplotlib.pyplot as plt\n",
    "from matplotlib.pylab import rcParams"
   ]
  },
  {
   "cell_type": "code",
   "execution_count": 2,
   "metadata": {},
   "outputs": [],
   "source": [
    "rcParams['figure.figsize'] = 20, 10"
   ]
  },
  {
   "cell_type": "markdown",
   "metadata": {},
   "source": [
    "For the examples we are going to use the breast cancer dataset. Mind that in the current version the Nescience class can be applied only in case of classification problems with continuous features."
   ]
  },
  {
   "cell_type": "code",
   "execution_count": 3,
   "metadata": {},
   "outputs": [],
   "source": [
    "from sklearn.datasets import load_breast_cancer"
   ]
  },
  {
   "cell_type": "markdown",
   "metadata": {},
   "source": [
    "We will apply the nescience class to decision tree classifier models and multilayer perceptron models."
   ]
  },
  {
   "cell_type": "code",
   "execution_count": 4,
   "metadata": {},
   "outputs": [],
   "source": [
    "from sklearn.tree import DecisionTreeClassifier\n",
    "from sklearn.neural_network import MLPClassifier"
   ]
  },
  {
   "cell_type": "markdown",
   "metadata": {},
   "source": [
    "Finally we import the Nescience class."
   ]
  },
  {
   "cell_type": "code",
   "execution_count": 5,
   "metadata": {},
   "outputs": [],
   "source": [
    "from Nescience.Nescience import *"
   ]
  },
  {
   "cell_type": "markdown",
   "metadata": {},
   "source": [
    "## Miscoding"
   ]
  },
  {
   "cell_type": "markdown",
   "metadata": {},
   "source": [
    "#### Target Conditional Complexity"
   ]
  },
  {
   "cell_type": "markdown",
   "metadata": {},
   "source": [
    "The target conditional complexity measures the effort required to encode the target variable assuming the knowledge of a feature. The higher this value, the better, since that means the feature contains more information about the target."
   ]
  },
  {
   "cell_type": "markdown",
   "metadata": {},
   "source": [
    "We will use a synthetic dataset to show how this method works. We will randomly generate four clouds of points classified according to ten features among which only four are relevant."
   ]
  },
  {
   "cell_type": "code",
   "execution_count": 6,
   "metadata": {},
   "outputs": [],
   "source": [
    "from sklearn.datasets.samples_generator import make_classification"
   ]
  },
  {
   "cell_type": "code",
   "execution_count": 7,
   "metadata": {},
   "outputs": [],
   "source": [
    "X, y = make_classification(n_samples=1000, n_features=20, n_informative=4, n_redundant=0, n_repeated=0, n_classes=4, n_clusters_per_class=1, weights=None, flip_y=0, class_sep=1.0, hypercube=True, shift=0.0, scale=1.0, shuffle=True, random_state=1)"
   ]
  },
  {
   "cell_type": "markdown",
   "metadata": {},
   "source": [
    "We have to initialize the class Nescience with the dataset we are going to use."
   ]
  },
  {
   "cell_type": "code",
   "execution_count": 8,
   "metadata": {},
   "outputs": [
    {
     "name": "stdout",
     "output_type": "stream",
     "text": [
      "Computing optimal codes ... done!\n",
      "Computing miscoding ... done!\n"
     ]
    }
   ],
   "source": [
    "nescience = Nescience(X, y, verbose=True)"
   ]
  },
  {
   "cell_type": "markdown",
   "metadata": {},
   "source": [
    "Let's get the target conditional complexity with respect to all the features."
   ]
  },
  {
   "cell_type": "code",
   "execution_count": 9,
   "metadata": {},
   "outputs": [
    {
     "data": {
      "text/plain": [
       "array([0.02390238, 0.02232701, 0.02129829, 0.02132389, 0.02317516,\n",
       "       0.24086956, 0.15724648, 0.02033484, 0.02859811, 0.01850099,\n",
       "       0.01562849, 0.13001501, 0.01448534, 0.02431025, 0.02073056,\n",
       "       0.02530215, 0.13286182, 0.01971741, 0.01882615, 0.02054609])"
      ]
     },
     "execution_count": 9,
     "metadata": {},
     "output_type": "execute_result"
    }
   ],
   "source": [
    "tcc = nescience.targetconditionalcomplexity()\n",
    "tcc"
   ]
  },
  {
   "cell_type": "code",
   "execution_count": 10,
   "metadata": {},
   "outputs": [
    {
     "data": {
      "image/png": "[encoded data removed]",
      "text/plain": [
       "<Figure size 1440x720 with 1 Axes>"
      ]
     },
     "metadata": {
      "needs_background": "light"
     },
     "output_type": "display_data"
    }
   ],
   "source": [
    "plt.bar(x=np.arange(0, 20), height=tcc, tick_label=np.arange(0, 20))\n",
    "plt.title(\"Target Conditional Complexity\")\n",
    "plt.show()"
   ]
  },
  {
   "cell_type": "markdown",
   "metadata": {},
   "source": [
    "There are clearly four features that have some \"predictive\" power over the target variable. A value close to 1 means more predictive power."
   ]
  },
  {
   "cell_type": "markdown",
   "metadata": {},
   "source": [
    "Let's compare with a classical correlation schema."
   ]
  },
  {
   "cell_type": "code",
   "execution_count": 11,
   "metadata": {},
   "outputs": [],
   "source": [
    "df = pd.DataFrame(X)\n",
    "df['y'] = y\n",
    "corr = df.corr()"
   ]
  },
  {
   "cell_type": "code",
   "execution_count": 12,
   "metadata": {},
   "outputs": [
    {
     "data": {
      "text/plain": [
       "Text(0.5,1,'By Correlation')"
      ]
     },
     "execution_count": 12,
     "metadata": {},
     "output_type": "execute_result"
    },
    {
     "data": {
      "image/png": "[encoded data removed]",
      "text/plain": [
       "<Figure size 1440x720 with 1 Axes>"
      ]
     },
     "metadata": {
      "needs_background": "light"
     },
     "output_type": "display_data"
    }
   ],
   "source": [
    "plt.bar(x=np.arange(0, 20), height=abs(corr['y'][:-1].values), tick_label=np.arange(0, 20))\n",
    "plt.title(\"By Correlation\")"
   ]
  },
  {
   "cell_type": "markdown",
   "metadata": {},
   "source": [
    "In this case, there are three clear features correlated with the target variable, however, it is not clear if there is a fourth one (and it should)."
   ]
  },
  {
   "cell_type": "markdown",
   "metadata": {},
   "source": [
    "#### Model Miscoding"
   ]
  },
  {
   "cell_type": "markdown",
   "metadata": {},
   "source": [
    "Now, let's compute the miscoding of a trained model. The miscoding of a model measures the \"relevance\" of the collection of features used in the model to predict the target variable."
   ]
  },
  {
   "cell_type": "code",
   "execution_count": 13,
   "metadata": {},
   "outputs": [],
   "source": [
    "data = load_breast_cancer()\n",
    "X = data.data\n",
    "y = data.target"
   ]
  },
  {
   "cell_type": "code",
   "execution_count": 14,
   "metadata": {},
   "outputs": [
    {
     "data": {
      "text/plain": [
       "DecisionTreeClassifier(class_weight=None, criterion='gini', max_depth=None,\n",
       "                       max_features=None, max_leaf_nodes=None,\n",
       "                       min_impurity_decrease=0.0, min_impurity_split=None,\n",
       "                       min_samples_leaf=5, min_samples_split=2,\n",
       "                       min_weight_fraction_leaf=0.0, presort=False,\n",
       "                       random_state=None, splitter='best')"
      ]
     },
     "execution_count": 14,
     "metadata": {},
     "output_type": "execute_result"
    }
   ],
   "source": [
    "tree = DecisionTreeClassifier(min_samples_leaf=5)\n",
    "tree.fit(X, y)"
   ]
  },
  {
   "cell_type": "markdown",
   "metadata": {},
   "source": [
    "In order to do that we need the list of features in use."
   ]
  },
  {
   "cell_type": "code",
   "execution_count": 15,
   "metadata": {},
   "outputs": [],
   "source": [
    "attr_in_use = np.zeros(X.shape[1], dtype=int)\n",
    "features = set(tree.tree_.feature[tree.tree_.feature >= 0])\n",
    "for i in features:\n",
    "    attr_in_use[i] = 1"
   ]
  },
  {
   "cell_type": "markdown",
   "metadata": {},
   "source": [
    "Let's intitallize the Nescience class with this new dataset."
   ]
  },
  {
   "cell_type": "code",
   "execution_count": 16,
   "metadata": {},
   "outputs": [
    {
     "name": "stdout",
     "output_type": "stream",
     "text": [
      "Computing optimal codes ... done!\n",
      "Computing miscoding ... done!\n"
     ]
    }
   ],
   "source": [
    "nescience = Nescience(X, y, verbose=True)"
   ]
  },
  {
   "cell_type": "code",
   "execution_count": 17,
   "metadata": {},
   "outputs": [
    {
     "data": {
      "text/plain": [
       "0.5920245086169342"
      ]
     },
     "execution_count": 17,
     "metadata": {},
     "output_type": "execute_result"
    }
   ],
   "source": [
    "nescience.miscoding(attr_in_use)"
   ]
  },
  {
   "cell_type": "markdown",
   "metadata": {},
   "source": [
    "It seeems that the model is not using all the relevant attributes. Let's see which are the attributes in use."
   ]
  },
  {
   "cell_type": "code",
   "execution_count": 18,
   "metadata": {},
   "outputs": [
    {
     "name": "stdout",
     "output_type": "stream",
     "text": [
      "['mean radius' 'mean texture']\n"
     ]
    }
   ],
   "source": [
    "print(np.unique(data.feature_names[attr_in_use]))"
   ]
  },
  {
   "cell_type": "code",
   "execution_count": 19,
   "metadata": {},
   "outputs": [
    {
     "name": "stdout",
     "output_type": "stream",
     "text": [
      "['area error' 'compactness error' 'concave points error' 'concavity error'\n",
      " 'fractal dimension error' 'mean area' 'mean compactness'\n",
      " 'mean concave points' 'mean concavity' 'mean fractal dimension'\n",
      " 'mean perimeter' 'mean radius' 'mean smoothness' 'mean symmetry'\n",
      " 'mean texture' 'perimeter error' 'radius error' 'smoothness error'\n",
      " 'symmetry error' 'texture error' 'worst area' 'worst compactness'\n",
      " 'worst concave points' 'worst concavity' 'worst fractal dimension'\n",
      " 'worst perimeter' 'worst radius' 'worst smoothness' 'worst symmetry'\n",
      " 'worst texture']\n"
     ]
    }
   ],
   "source": [
    "print(np.unique(data.feature_names))"
   ]
  },
  {
   "cell_type": "markdown",
   "metadata": {},
   "source": [
    "##  Inaccuracy"
   ]
  },
  {
   "cell_type": "markdown",
   "metadata": {},
   "source": [
    "The inaccuracy of a model, according to the theory of nescience, is the effort, measured as the length of a computer program, to fix the errors of the model. In practice, inaccuracy is approximated as the compressed version of the errors."
   ]
  },
  {
   "cell_type": "code",
   "execution_count": 20,
   "metadata": {},
   "outputs": [],
   "source": [
    "data = load_breast_cancer()\n",
    "X = data.data\n",
    "y = data.target"
   ]
  },
  {
   "cell_type": "code",
   "execution_count": 21,
   "metadata": {},
   "outputs": [
    {
     "data": {
      "text/plain": [
       "DecisionTreeClassifier(class_weight=None, criterion='gini', max_depth=None,\n",
       "                       max_features=None, max_leaf_nodes=None,\n",
       "                       min_impurity_decrease=0.0, min_impurity_split=None,\n",
       "                       min_samples_leaf=5, min_samples_split=2,\n",
       "                       min_weight_fraction_leaf=0.0, presort=False,\n",
       "                       random_state=None, splitter='best')"
      ]
     },
     "execution_count": 21,
     "metadata": {},
     "output_type": "execute_result"
    }
   ],
   "source": [
    "tree = DecisionTreeClassifier(min_samples_leaf=5)\n",
    "tree.fit(X, y)"
   ]
  },
  {
   "cell_type": "code",
   "execution_count": 22,
   "metadata": {},
   "outputs": [],
   "source": [
    "attr_in_use = np.zeros(X.shape[1], dtype=int)\n",
    "features = set(tree.tree_.feature[tree.tree_.feature >= 0])\n",
    "for i in features:\n",
    "    attr_in_use[i] = 1"
   ]
  },
  {
   "cell_type": "code",
   "execution_count": 23,
   "metadata": {},
   "outputs": [],
   "source": [
    "errors = list()\n",
    "pred = tree.predict(X)\n",
    "for i in np.arange(X.shape[0]):\n",
    "    if pred[i] != y[i]:\n",
    "        new_error = list(X[i][np.where(attr_in_use)])\n",
    "        new_error.append(y[i])\n",
    "        errors.append(new_error)"
   ]
  },
  {
   "cell_type": "code",
   "execution_count": 24,
   "metadata": {},
   "outputs": [
    {
     "name": "stdout",
     "output_type": "stream",
     "text": [
      "Computing optimal codes ... done!\n",
      "Computing miscoding ... done!\n"
     ]
    }
   ],
   "source": [
    "nescience = Nescience(X, y, verbose=True)"
   ]
  },
  {
   "cell_type": "code",
   "execution_count": 25,
   "metadata": {},
   "outputs": [
    {
     "data": {
      "text/plain": [
       "0.008371934667309589"
      ]
     },
     "execution_count": 25,
     "metadata": {},
     "output_type": "execute_result"
    }
   ],
   "source": [
    "nescience.inaccuracy(np.array(errors), attr_in_use)"
   ]
  },
  {
   "cell_type": "markdown",
   "metadata": {},
   "source": [
    "Let's Compare with the score of the model:"
   ]
  },
  {
   "cell_type": "code",
   "execution_count": 26,
   "metadata": {},
   "outputs": [
    {
     "data": {
      "text/plain": [
       "0.02284710017574687"
      ]
     },
     "execution_count": 26,
     "metadata": {},
     "output_type": "execute_result"
    }
   ],
   "source": [
    "1 - tree.score(X, y)"
   ]
  },
  {
   "cell_type": "markdown",
   "metadata": {},
   "source": [
    "Let's see what happens if we make one hundred times the same error (if we do that in case of sklearn, the error will increase by 0.18)."
   ]
  },
  {
   "cell_type": "code",
   "execution_count": 27,
   "metadata": {},
   "outputs": [],
   "source": [
    "errors_2 = errors.copy()\n",
    "for i in np.arange(100):\n",
    "    errors_2.append(errors[0])"
   ]
  },
  {
   "cell_type": "code",
   "execution_count": 28,
   "metadata": {},
   "outputs": [
    {
     "data": {
      "text/plain": [
       "0.019566421799461907"
      ]
     },
     "execution_count": 28,
     "metadata": {},
     "output_type": "execute_result"
    }
   ],
   "source": [
    "nescience.inaccuracy(np.array(errors_2), attr_in_use)"
   ]
  },
  {
   "cell_type": "markdown",
   "metadata": {},
   "source": [
    "The theory of nescience states that making one hundred times the same error is not that bad. Let's see what happens if we make one hundred different errors."
   ]
  },
  {
   "cell_type": "code",
   "execution_count": 29,
   "metadata": {},
   "outputs": [],
   "source": [
    "errors_3 = errors.copy()\n",
    "for i in np.arange(100):\n",
    "    rnd = np.random.randint(2)\n",
    "    errors_3.append(errors[rnd])"
   ]
  },
  {
   "cell_type": "code",
   "execution_count": 30,
   "metadata": {},
   "outputs": [
    {
     "data": {
      "text/plain": [
       "0.05006121290727005"
      ]
     },
     "execution_count": 30,
     "metadata": {},
     "output_type": "execute_result"
    }
   ],
   "source": [
    "nescience.inaccuracy(np.array(errors_3), attr_in_use)"
   ]
  },
  {
   "cell_type": "markdown",
   "metadata": {},
   "source": [
    "Making one hundred different errors is worse than making one hundred times the same error."
   ]
  },
  {
   "cell_type": "markdown",
   "metadata": {},
   "source": [
    "## Surfeit"
   ]
  },
  {
   "cell_type": "markdown",
   "metadata": {},
   "source": [
    "Surfeit tell us how far we are from having the shortest possible model for this dataset. Surfeit, being a non-computable quantity, has to be approximated in practice. The approximation will be based on the redudancy of the model."
   ]
  },
  {
   "cell_type": "code",
   "execution_count": 31,
   "metadata": {},
   "outputs": [],
   "source": [
    "data = load_breast_cancer()\n",
    "X = data.data\n",
    "y = data.target"
   ]
  },
  {
   "cell_type": "code",
   "execution_count": 32,
   "metadata": {},
   "outputs": [
    {
     "data": {
      "text/plain": [
       "DecisionTreeClassifier(class_weight=None, criterion='gini', max_depth=None,\n",
       "                       max_features=None, max_leaf_nodes=None,\n",
       "                       min_impurity_decrease=0.0, min_impurity_split=None,\n",
       "                       min_samples_leaf=5, min_samples_split=2,\n",
       "                       min_weight_fraction_leaf=0.0, presort=False,\n",
       "                       random_state=None, splitter='best')"
      ]
     },
     "execution_count": 32,
     "metadata": {},
     "output_type": "execute_result"
    }
   ],
   "source": [
    "tree = DecisionTreeClassifier(min_samples_leaf=5)\n",
    "tree.fit(X, y)"
   ]
  },
  {
   "cell_type": "markdown",
   "metadata": {},
   "source": [
    "First, we need a function that encode our model as a string."
   ]
  },
  {
   "cell_type": "code",
   "execution_count": 33,
   "metadata": {},
   "outputs": [],
   "source": [
    "def tree2string(estimator):\n",
    "    \n",
    "    n_nodes        = estimator.tree_.node_count\n",
    "    children_left  = estimator.tree_.children_left\n",
    "    children_right = estimator.tree_.children_right\n",
    "    feature        = estimator.tree_.feature\n",
    "    threshold      = estimator.tree_.threshold\n",
    "\n",
    "    node_depth = np.zeros(shape=n_nodes, dtype=np.int64)\n",
    "    is_leaves  = np.zeros(shape=n_nodes, dtype=bool)\n",
    "\n",
    "    stack = [(0, -1)]  # seed is the root node id and its parent depth\n",
    "\n",
    "    while len(stack) > 0:\n",
    "\n",
    "        node_id, parent_depth = stack.pop()\n",
    "        node_depth[node_id] = parent_depth + 1\n",
    "\n",
    "        # If we have a test node\n",
    "        if (children_left[node_id] != children_right[node_id]):\n",
    "            stack.append((children_left[node_id], parent_depth + 1))\n",
    "            stack.append((children_right[node_id], parent_depth + 1))\n",
    "        else:\n",
    "            is_leaves[node_id] = True\n",
    "\n",
    "    string = \"\"\n",
    "\n",
    "    for i in range(n_nodes):\n",
    "        \n",
    "        if is_leaves[i]:\n",
    "            string = string + str(\"%snode=%s leaf node.\" % (node_depth[i] * \"\\t\", i))\n",
    "        else:\n",
    "            string = string + (\"%snode=%s test node: go to node %s if X[:, %s] <= %s else to \"\n",
    "                               \"node %s.\"\n",
    "                               % (node_depth[i] * \"\\t\",\n",
    "                               i,\n",
    "                               children_left[i],\n",
    "                               feature[i],\n",
    "                               threshold[i],\n",
    "                               children_right[i],\n",
    "                               ))\n",
    "        \n",
    "        string = string + \"\\n\"\n",
    "        \n",
    "    return string"
   ]
  },
  {
   "cell_type": "code",
   "execution_count": 34,
   "metadata": {},
   "outputs": [
    {
     "name": "stdout",
     "output_type": "stream",
     "text": [
      "node=0 test node: go to node 1 if X[:, 20] <= 16.795000076293945 else to node 22.\n",
      "\tnode=1 test node: go to node 2 if X[:, 27] <= 0.13580000400543213 else to node 13.\n",
      "\t\tnode=2 test node: go to node 3 if X[:, 10] <= 0.6430999934673309 else to node 12.\n",
      "\t\t\tnode=3 test node: go to node 4 if X[:, 23] <= 785.75 else to node 9.\n",
      "\t\t\t\tnode=4 test node: go to node 5 if X[:, 21] <= 33.35000038146973 else to node 6.\n",
      "\t\t\t\t\tnode=5 leaf node.\n",
      "\t\t\t\t\tnode=6 test node: go to node 7 if X[:, 21] <= 35.04999923706055 else to node 8.\n",
      "\t\t\t\t\t\tnode=7 leaf node.\n",
      "\t\t\t\t\t\tnode=8 leaf node.\n",
      "\t\t\t\tnode=9 test node: go to node 10 if X[:, 23] <= 809.0500183105469 else to node 11.\n",
      "\t\t\t\t\tnode=10 leaf node.\n",
      "\t\t\t\t\tnode=11 leaf node.\n",
      "\t\t\tnode=12 leaf node.\n",
      "\t\tnode=13 test node: go to node 14 if X[:, 21] <= 25.670000076293945 else to node 19.\n",
      "\t\t\tnode=14 test node: go to node 15 if X[:, 23] <= 805.8999938964844 else to node 18.\n",
      "\t\t\t\tnode=15 test node: go to node 16 if X[:, 5] <= 0.156700000166893 else to node 17.\n",
      "\t\t\t\t\tnode=16 leaf node.\n",
      "\t\t\t\t\tnode=17 leaf node.\n",
      "\t\t\t\tnode=18 leaf node.\n",
      "\t\t\tnode=19 test node: go to node 20 if X[:, 7] <= 0.054099999368190765 else to node 21.\n",
      "\t\t\t\tnode=20 leaf node.\n",
      "\t\t\t\tnode=21 leaf node.\n",
      "\tnode=22 test node: go to node 23 if X[:, 21] <= 19.90999984741211 else to node 26.\n",
      "\t\tnode=23 test node: go to node 24 if X[:, 27] <= 0.1454000025987625 else to node 25.\n",
      "\t\t\tnode=24 leaf node.\n",
      "\t\t\tnode=25 leaf node.\n",
      "\t\tnode=26 test node: go to node 27 if X[:, 26] <= 0.190700002014637 else to node 28.\n",
      "\t\t\tnode=27 leaf node.\n",
      "\t\t\tnode=28 leaf node.\n",
      "\n"
     ]
    }
   ],
   "source": [
    "print(tree2string(tree))"
   ]
  },
  {
   "cell_type": "markdown",
   "metadata": {},
   "source": [
    "Ideally, our encoding should provide a valid python function. For the sake of demonstration purposes, we will use the above encoding."
   ]
  },
  {
   "cell_type": "code",
   "execution_count": 35,
   "metadata": {},
   "outputs": [
    {
     "name": "stdout",
     "output_type": "stream",
     "text": [
      "Computing optimal codes ... done!\n",
      "Computing miscoding ... done!\n"
     ]
    }
   ],
   "source": [
    "nescience = Nescience(X, y, verbose=True)"
   ]
  },
  {
   "cell_type": "code",
   "execution_count": 36,
   "metadata": {},
   "outputs": [
    {
     "data": {
      "text/plain": [
       "0.7303149606299213"
      ]
     },
     "execution_count": 36,
     "metadata": {},
     "output_type": "execute_result"
    }
   ],
   "source": [
    "nescience.redundancy(tree2string(tree))"
   ]
  },
  {
   "cell_type": "markdown",
   "metadata": {},
   "source": [
    "Next, do the same for the case of a multi-layer perceptron neural network"
   ]
  },
  {
   "cell_type": "code",
   "execution_count": 37,
   "metadata": {},
   "outputs": [],
   "source": [
    "def nn2string(nn):\n",
    "    \n",
    "    # Header\n",
    "    string = \"def NN(X):\\n\"\n",
    "        \n",
    "    # Parameters\n",
    "    for i in np.arange(len(nn.coefs_)):\n",
    "        string = string + \"    W\" + str(i) + \" = \" + str(nn.coefs_[i]) + \"\\n\"\n",
    "        string = string + \"    b\" + str(i) + \" = \" + str(nn.intercepts_[i]) + \"\\n\"\n",
    "        \n",
    "    # Computation\n",
    "    for i in np.arange(len(nn.coefs_) - 1):\n",
    "        string = string + \"    Z\" + str(i) + \" = np.matmul(W\" + str(i) + \", X) + b\" + str(i) + \"\\n\"\n",
    "        string = string + \"    A\" + str(i) + \" = np.tanh(Z\" + str(i) + \")\\n\"\n",
    "        \n",
    "    i = len(nn.coefs_)\n",
    "    string = string + \"    Z\" + str(i) + \" = np.matmul(W\" + str(i) + \", A\" + str(i) + \") + b2\\n\"\n",
    "    string = string + \"    A\" + str(i) + \" = self._sigmoid(Z\" + str(i) + \")\\n\"\n",
    "\n",
    "    # Predictions        \n",
    "    string = string + \"    predictions = A\" + str(i) + \" > 0.5\\n\\n\"\n",
    "        \n",
    "    string = string + \"    return predictions\\n\"\n",
    "\n",
    "    return string"
   ]
  },
  {
   "cell_type": "code",
   "execution_count": 38,
   "metadata": {},
   "outputs": [],
   "source": [
    "nn = MLPClassifier(hidden_layer_sizes = [5, 5],\n",
    "                   activation         = \"relu\",\n",
    "                   learning_rate      = \"constant\", \n",
    "                   learning_rate_init = 0.01,\n",
    "                   solver             = \"sgd\",\n",
    "                   alpha              = 0,\n",
    "                   max_iter           = 100,\n",
    "                   tol                = 0)"
   ]
  },
  {
   "cell_type": "code",
   "execution_count": 39,
   "metadata": {},
   "outputs": [
    {
     "data": {
      "text/plain": [
       "MLPClassifier(activation='relu', alpha=0, batch_size='auto', beta_1=0.9,\n",
       "              beta_2=0.999, early_stopping=False, epsilon=1e-08,\n",
       "              hidden_layer_sizes=[5, 5], learning_rate='constant',\n",
       "              learning_rate_init=0.01, max_iter=100, momentum=0.9,\n",
       "              n_iter_no_change=10, nesterovs_momentum=True, power_t=0.5,\n",
       "              random_state=None, shuffle=True, solver='sgd', tol=0,\n",
       "              validation_fraction=0.1, verbose=False, warm_start=False)"
      ]
     },
     "execution_count": 39,
     "metadata": {},
     "output_type": "execute_result"
    }
   ],
   "source": [
    "nn.fit(X, y)"
   ]
  },
  {
   "cell_type": "code",
   "execution_count": 40,
   "metadata": {},
   "outputs": [
    {
     "name": "stdout",
     "output_type": "stream",
     "text": [
      "def NN(X):\n",
      "    W0 = [[-2.81920432e-01  2.19592504e-01  1.75154976e-01  4.42013585e-02\n",
      "   1.42498446e-01]\n",
      " [-6.26524258e-01 -2.03245572e-01  2.05092369e-01 -3.89630722e-01\n",
      "  -2.01655469e-01]\n",
      " [-2.68940243e+00 -3.37916209e-01 -2.22730850e-01 -8.52894955e-01\n",
      "  -4.27579057e-01]\n",
      " [-1.28653313e+01 -1.05849318e-01 -4.09080822e-01 -5.54218365e+00\n",
      "  -8.49206583e-01]\n",
      " [ 5.13903842e-02 -3.50802314e-01 -3.95794652e-01  2.16950763e-01\n",
      "   1.12009543e-02]\n",
      " [ 1.94345211e-01 -2.44673103e-01  1.63784172e-01  2.50287338e-01\n",
      "  -2.57373601e-01]\n",
      " [ 3.89822971e-01 -1.59138757e-01  2.04751511e-01 -3.80761301e-01\n",
      "  -2.53544860e-01]\n",
      " [-1.53405874e-01 -3.40619759e-01  3.24229917e-01  1.49065628e-01\n",
      "  -2.51790981e-01]\n",
      " [-1.16787968e-01 -6.94427118e-02  5.89907294e-03 -1.43841488e-01\n",
      "  -2.10121029e-01]\n",
      " [-3.26809921e-01  4.09035431e-01 -2.00619301e-01 -3.11008865e-01\n",
      "  -3.42594250e-01]\n",
      " [ 2.66015109e-01 -3.06932935e-01  1.90729030e-01  2.69380586e-01\n",
      "   2.09064386e-01]\n",
      " [-1.46815584e-01  3.91659560e-01  8.82679843e-02  1.18322232e-01\n",
      "   3.11197947e-02]\n",
      " [ 1.02319636e-01 -1.83787200e-01 -2.70697040e-01  2.41337778e-01\n",
      "  -2.44264533e-01]\n",
      " [-2.73511747e-01 -1.91653277e-01 -7.32037565e-03 -1.73541380e-01\n",
      "  -2.60346801e-01]\n",
      " [ 2.09759007e-01  3.45625367e-01 -2.67431951e-02 -1.55444895e-02\n",
      "  -2.67252878e-01]\n",
      " [-3.51533269e-01  2.53200140e-01  3.01767076e-01  3.25806522e-01\n",
      "  -2.43997490e-01]\n",
      " [ 1.35972214e-01 -3.41531703e-01 -8.96890037e-02 -4.11577266e-01\n",
      "   3.63239913e-01]\n",
      " [-1.87227515e-01 -1.63851583e-01 -7.80798793e-02 -3.57639024e-01\n",
      "   3.78752297e-01]\n",
      " [-2.54277019e-01  3.45595597e-02  3.64067432e-01 -2.83416793e-01\n",
      "  -3.84976210e-02]\n",
      " [-2.25923625e-01  1.83456039e-01  3.79331262e-01  3.85213987e-01\n",
      "   3.64495012e-01]\n",
      " [-1.56839413e-01 -3.64271197e-01  2.54256609e-01 -4.09580684e-01\n",
      "  -9.87473549e-02]\n",
      " [-4.45831730e-01  3.92103014e-01 -1.31868753e-01 -4.22837295e-01\n",
      "   3.27978404e-01]\n",
      " [-2.21032700e+00  3.62593439e-02 -5.70546031e-02 -8.03758974e-01\n",
      "   2.00947545e-01]\n",
      " [-1.63313955e+01 -2.45036840e-01 -3.07609566e-02 -7.90682756e+00\n",
      "  -1.33301037e+00]\n",
      " [-2.07505415e-01  3.66273012e-01  3.59403402e-01 -2.65207702e-03\n",
      "   1.78303223e-01]\n",
      " [ 3.02252523e-01  1.76358606e-01 -2.06966260e-01  1.61043402e-01\n",
      "  -8.44452642e-02]\n",
      " [ 3.24358545e-01 -3.25422599e-01 -1.12402901e-01 -3.13842718e-01\n",
      "   1.95667287e-01]\n",
      " [-3.16950022e-01  1.16473150e-01 -1.57253067e-01  1.40373674e-01\n",
      "  -1.47435832e-01]\n",
      " [-4.82426008e-02  1.37259391e-01  7.96204518e-02  2.08117032e-01\n",
      "  -8.22580585e-02]\n",
      " [-3.29958061e-01 -3.14792650e-01 -3.76061013e-01 -1.10748134e-01\n",
      "   2.63409353e-01]]\n",
      "    b0 = [-0.17112344 -0.04283281 -0.22563885  0.27677194 -0.40831204]\n",
      "    W1 = [[  7.17108472  -9.11949849  -0.59621921  -0.19902993 -18.56919095]\n",
      " [  0.62361371   0.71326158  -0.57962901  -0.44719908   0.68716421]\n",
      " [ -0.73104992  -0.28711344  -0.19421397  -0.42897953   0.56773257]\n",
      " [ -0.49685323  -0.52141855 -15.37719975  -0.76795533  -0.56421118]\n",
      " [ -0.1722854    0.51548676  -0.34968296  -0.33441341  -0.22013223]]\n",
      "    b1 = [-0.05047012 -0.95579354 -0.05155672 -0.65892115 -0.65368957]\n",
      "    W2 = [[ 7.96526423]\n",
      " [17.21865971]\n",
      " [-3.25346716]\n",
      " [-0.71916148]\n",
      " [13.19158482]]\n",
      "    b2 = [0.61266771]\n",
      "    Z0 = np.matmul(W0, X) + b0\n",
      "    A0 = np.tanh(Z0)\n",
      "    Z1 = np.matmul(W1, X) + b1\n",
      "    A1 = np.tanh(Z1)\n",
      "    Z3 = np.matmul(W3, A3) + b2\n",
      "    A3 = self._sigmoid(Z3)\n",
      "    predictions = A3 > 0.5\n",
      "\n",
      "    return predictions\n",
      "\n"
     ]
    }
   ],
   "source": [
    "print(nn2string(nn))"
   ]
  },
  {
   "cell_type": "markdown",
   "metadata": {},
   "source": [
    "Ideally we should not relay in the numpy library, since what we are computing is the conditional surfeit of a model given the numpy library. But let's do that for the sake of demo."
   ]
  },
  {
   "cell_type": "code",
   "execution_count": 41,
   "metadata": {},
   "outputs": [
    {
     "data": {
      "text/plain": [
       "0.5608747044917257"
      ]
     },
     "execution_count": 41,
     "metadata": {},
     "output_type": "execute_result"
    }
   ],
   "source": [
    "nescience.redundancy(nn2string(nn))"
   ]
  },
  {
   "cell_type": "markdown",
   "metadata": {},
   "source": [
    "## Nescience"
   ]
  },
  {
   "cell_type": "markdown",
   "metadata": {},
   "source": [
    "Nescience is a measure of how much we do not know about the problem at hand given a dataset and a model. It is a function of miscoding, inaccuracy and surfeit."
   ]
  },
  {
   "cell_type": "code",
   "execution_count": 42,
   "metadata": {},
   "outputs": [],
   "source": [
    "data = load_breast_cancer()\n",
    "X = data.data\n",
    "y = data.target"
   ]
  },
  {
   "cell_type": "code",
   "execution_count": 43,
   "metadata": {},
   "outputs": [
    {
     "data": {
      "text/plain": [
       "DecisionTreeClassifier(class_weight=None, criterion='gini', max_depth=None,\n",
       "                       max_features=None, max_leaf_nodes=None,\n",
       "                       min_impurity_decrease=0.0, min_impurity_split=None,\n",
       "                       min_samples_leaf=5, min_samples_split=2,\n",
       "                       min_weight_fraction_leaf=0.0, presort=False,\n",
       "                       random_state=None, splitter='best')"
      ]
     },
     "execution_count": 43,
     "metadata": {},
     "output_type": "execute_result"
    }
   ],
   "source": [
    "tree = DecisionTreeClassifier(min_samples_leaf=5)\n",
    "tree.fit(X, y)"
   ]
  },
  {
   "cell_type": "markdown",
   "metadata": {},
   "source": [
    "Features in use."
   ]
  },
  {
   "cell_type": "code",
   "execution_count": 44,
   "metadata": {},
   "outputs": [],
   "source": [
    "attr_in_use = np.zeros(X.shape[1], dtype=int)\n",
    "features = set(tree.tree_.feature[tree.tree_.feature >= 0])\n",
    "for i in features:\n",
    "    attr_in_use[i] = 1"
   ]
  },
  {
   "cell_type": "markdown",
   "metadata": {},
   "source": [
    "List of errors."
   ]
  },
  {
   "cell_type": "code",
   "execution_count": 45,
   "metadata": {},
   "outputs": [],
   "source": [
    "errors = list()\n",
    "pred = tree.predict(X)\n",
    "for i in np.arange(X.shape[0]):\n",
    "    if pred[i] != y[i]:\n",
    "        new_error = list(X[i][np.where(attr_in_use)])\n",
    "        new_error.append(y[i])\n",
    "        errors.append(new_error)\n",
    "errors = np.array(errors)"
   ]
  },
  {
   "cell_type": "markdown",
   "metadata": {},
   "source": [
    "Model encoded as string."
   ]
  },
  {
   "cell_type": "code",
   "execution_count": 46,
   "metadata": {},
   "outputs": [],
   "source": [
    "model_str = tree2string(tree)"
   ]
  },
  {
   "cell_type": "markdown",
   "metadata": {},
   "source": [
    "Compute the nescience of the problem given a dataset and a model."
   ]
  },
  {
   "cell_type": "code",
   "execution_count": 47,
   "metadata": {},
   "outputs": [
    {
     "name": "stdout",
     "output_type": "stream",
     "text": [
      "Computing optimal codes ... done!\n",
      "Computing miscoding ... done!\n"
     ]
    }
   ],
   "source": [
    "nescience = Nescience(X, y, verbose=True)"
   ]
  },
  {
   "cell_type": "code",
   "execution_count": 48,
   "metadata": {},
   "outputs": [
    {
     "data": {
      "text/plain": [
       "0.024262130524488314"
      ]
     },
     "execution_count": 48,
     "metadata": {},
     "output_type": "execute_result"
    }
   ],
   "source": [
    "nescience.nescience(attr_in_use, errors, model_str)"
   ]
  },
  {
   "cell_type": "markdown",
   "metadata": {},
   "source": [
    "## Optimal Tree"
   ]
  },
  {
   "cell_type": "markdown",
   "metadata": {},
   "source": [
    "Lets see how we can apply the concept of nescience to find an optimal value for one of the hyperparameters of decision trees. Please mind that this approach is different of the approach used in the NescienceDecisionTreeClassifer algorithm of the Nescience package."
   ]
  },
  {
   "cell_type": "code",
   "execution_count": 49,
   "metadata": {},
   "outputs": [],
   "source": [
    "data = load_breast_cancer()\n",
    "X = data.data\n",
    "y = data.target"
   ]
  },
  {
   "cell_type": "code",
   "execution_count": 50,
   "metadata": {},
   "outputs": [
    {
     "name": "stdout",
     "output_type": "stream",
     "text": [
      "Computing optimal codes ... done!\n",
      "Computing miscoding ... done!\n"
     ]
    }
   ],
   "source": [
    "nescience = Nescience(X, y, verbose=True)"
   ]
  },
  {
   "cell_type": "code",
   "execution_count": 54,
   "metadata": {},
   "outputs": [],
   "source": [
    "lmiscoding  = list()\n",
    "linaccuracy = list()\n",
    "lredudancy  = list()\n",
    "lnescience  = list()\n",
    "\n",
    "for i in range(10, 30):\n",
    "    \n",
    "    tree = DecisionTreeClassifier(min_samples_leaf=i)\n",
    "    tree.fit(X, y)\n",
    "    \n",
    "    attr_in_use = np.zeros(X.shape[1], dtype=int)\n",
    "    features = set(tree.tree_.feature[tree.tree_.feature >= 0])\n",
    "    for i in features:\n",
    "        attr_in_use[i] = 1\n",
    "        \n",
    "    errors = list()\n",
    "    pred = tree.predict(X)\n",
    "    for i in np.arange(X.shape[0]):\n",
    "        if pred[i] != y[i]:\n",
    "            new_error = list(X[i][np.where(attr_in_use)])\n",
    "            new_error.append(y[i])\n",
    "            errors.append(new_error)\n",
    "    errors = np.array(errors)\n",
    "    \n",
    "    model_str = tree2string(tree)\n",
    "    \n",
    "    lmiscoding.append(nescience.miscoding(attr_in_use))\n",
    "    linaccuracy.append(nescience.inaccuracy(errors, attr_in_use))\n",
    "    lredudancy.append(nescience.redundancy(model_str))\n",
    "    \n",
    "    lnescience.append(nescience.nescience(attr_in_use, errors, model_str))"
   ]
  },
  {
   "cell_type": "code",
   "execution_count": 55,
   "metadata": {},
   "outputs": [
    {
     "data": {
      "text/plain": [
       "Text(0.5,1,'Nescience')"
      ]
     },
     "execution_count": 55,
     "metadata": {},
     "output_type": "execute_result"
    },
    {
     "data": {
      "image/png": "[encoded data removed]",
      "text/plain": [
       "<Figure size 1440x720 with 4 Axes>"
      ]
     },
     "metadata": {
      "needs_background": "light"
     },
     "output_type": "display_data"
    }
   ],
   "source": [
    "fig, axs = plt.subplots(4, gridspec_kw={'hspace': 0.4, 'wspace': 0})\n",
    "axs[0].plot(np.arange(10, 30), lmiscoding)\n",
    "axs[0].set_title('Miscoding')\n",
    "axs[1].plot(linaccuracy)\n",
    "axs[1].set_title('Inaccuracy')\n",
    "axs[2].plot(lredudancy)\n",
    "axs[2].set_title('Redudancy')\n",
    "axs[3].plot(lnescience)\n",
    "axs[3].set_title('Nescience')"
   ]
  },
  {
   "cell_type": "markdown",
   "metadata": {},
   "source": [
    "The minimum nescience achieved is"
   ]
  },
  {
   "cell_type": "code",
   "execution_count": 56,
   "metadata": {},
   "outputs": [
    {
     "data": {
      "text/plain": [
       "0.049796744658509175"
      ]
     },
     "execution_count": 56,
     "metadata": {},
     "output_type": "execute_result"
    }
   ],
   "source": [
    "min(lnescience)"
   ]
  },
  {
   "cell_type": "markdown",
   "metadata": {},
   "source": [
    "And so, the optimal number of samples at leafs should be"
   ]
  },
  {
   "cell_type": "code",
   "execution_count": 57,
   "metadata": {},
   "outputs": [
    {
     "data": {
      "text/plain": [
       "17"
      ]
     },
     "execution_count": 57,
     "metadata": {},
     "output_type": "execute_result"
    }
   ],
   "source": [
    "10 + np.where(lnescience == min(lnescience))[0][0]"
   ]
  },
  {
   "cell_type": "markdown",
   "metadata": {},
   "source": [
    "Compare the result with the classical way to do this kind of things."
   ]
  },
  {
   "cell_type": "code",
   "execution_count": 58,
   "metadata": {},
   "outputs": [],
   "source": [
    "from sklearn.model_selection import train_test_split"
   ]
  },
  {
   "cell_type": "code",
   "execution_count": 59,
   "metadata": {},
   "outputs": [],
   "source": [
    "X_train, X_test, y_train, y_test = train_test_split(X, y, test_size=0.3, random_state=42)"
   ]
  },
  {
   "cell_type": "code",
   "execution_count": 60,
   "metadata": {},
   "outputs": [],
   "source": [
    "lscore  = list()\n",
    "\n",
    "for i in np.arange(10, 30):\n",
    "    \n",
    "    tree = DecisionTreeClassifier(min_samples_leaf=i)\n",
    "    tree.fit(X_train, y_train)\n",
    "    \n",
    "    score = tree.score(X_test, y_test)\n",
    "    \n",
    "    lscore.append(score)"
   ]
  },
  {
   "cell_type": "code",
   "execution_count": 61,
   "metadata": {},
   "outputs": [
    {
     "data": {
      "text/plain": [
       "[<matplotlib.lines.Line2D at 0x7f6a5b0e9278>]"
      ]
     },
     "execution_count": 61,
     "metadata": {},
     "output_type": "execute_result"
    },
    {
     "data": {
      "image/png": "[encoded data removed]",
      "text/plain": [
       "<Figure size 1440x720 with 1 Axes>"
      ]
     },
     "metadata": {
      "needs_background": "light"
     },
     "output_type": "display_data"
    }
   ],
   "source": [
    "plt.plot(np.arange(10, 30), lscore)"
   ]
  },
  {
   "cell_type": "code",
   "execution_count": 62,
   "metadata": {},
   "outputs": [
    {
     "data": {
      "text/plain": [
       "0.9649122807017544"
      ]
     },
     "execution_count": 62,
     "metadata": {},
     "output_type": "execute_result"
    }
   ],
   "source": [
    "max(lscore)"
   ]
  },
  {
   "cell_type": "code",
   "execution_count": 63,
   "metadata": {},
   "outputs": [
    {
     "data": {
      "text/plain": [
       "15"
      ]
     },
     "execution_count": 63,
     "metadata": {},
     "output_type": "execute_result"
    }
   ],
   "source": [
    "10 + np.where(lscore == max(lscore))[0][0]"
   ]
  }
 ],
 "metadata": {
  "kernelspec": {
   "display_name": "Python [conda env:root] *",
   "language": "python",
   "name": "conda-root-py"
  },
  "language_info": {
   "codemirror_mode": {
    "name": "ipython",
    "version": 3
   },
   "file_extension": ".py",
   "mimetype": "text/x-python",
   "name": "python",
   "nbconvert_exporter": "python",
   "pygments_lexer": "ipython3",
   "version": "3.7.3"
  }
 },
 "nbformat": 4,
 "nbformat_minor": 2
}
